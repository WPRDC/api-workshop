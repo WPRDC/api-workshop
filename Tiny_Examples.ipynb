{
 "cells": [
  {
   "cell_type": "markdown",
   "metadata": {},
   "source": [
    "# Tiny Examples (of calls to the WPRDC's API)"
   ]
  },
  {
   "cell_type": "markdown",
   "metadata": {},
   "source": [
    "Import the libraries we need for this script\n",
    "* json - used for parsing JSON files\n",
    "* requests - makes HTTP requests. This will be used to make our API calls to the WPRDC.\n",
    "* pprint - for \"pretty-printing\" (formatting "
   ]
  },
  {
   "cell_type": "code",
   "execution_count": null,
   "metadata": {
    "collapsed": true
   },
   "outputs": [],
   "source": [
    "import json, requests, pprint # Run this code by clicking on the cell and hitting the Enter key (or Shift+Return)."
   ]
  },
  {
   "cell_type": "code",
   "execution_count": null,
   "metadata": {
    "collapsed": true
   },
   "outputs": [],
   "source": [
    "wprdc_api_endpoint = \"https://data.wprdc.org/api/3/action/datastore_search\" # Run this code the same way."
   ]
  },
  {
   "cell_type": "markdown",
   "metadata": {},
   "source": [
    "As you click on a cell and hit Enter, the next cell should become selected, and you can just keep hitting Enter and advancing through the notebook."
   ]
  },
  {
   "cell_type": "code",
   "execution_count": null,
   "metadata": {
    "collapsed": false
   },
   "outputs": [],
   "source": [
    "resource_id = \"4d49202b-8bac-4cf9-9915-798a342253a6\" # <== The resource ID for the 2015 dog licenses.\n",
    "search_term = \"Sirius\"\n",
    "url = wprdc_api_endpoint + \"?id=\" + resource_id + \"&q=\" + search_term\n",
    "print(url)\n",
    "response = requests.get(url)\n",
    "pprint.pprint(json.loads(response.text))"
   ]
  },
  {
   "cell_type": "markdown",
   "metadata": {},
   "source": [
    "We can declutter the results by printing only the 'records' part of the API response."
   ]
  },
  {
   "cell_type": "code",
   "execution_count": null,
   "metadata": {
    "collapsed": false
   },
   "outputs": [],
   "source": [
    "resource_id = \"4d49202b-8bac-4cf9-9915-798a342253a6\"\n",
    "search_term = \"Sirius\"\n",
    "url = wprdc_api_endpoint + \"?id=\" + resource_id + \"&q=\" + search_term\n",
    "print(url)\n",
    "response = requests.get(url)\n",
    "pprint.pprint(json.loads(response.text)['result']['records']) # <== Narrow the printed part of the API response to just the 'records'."
   ]
  },
  {
   "cell_type": "markdown",
   "metadata": {},
   "source": [
    "Let's simplify the response further by telling the API to return only one field in each record (the DogName field)."
   ]
  },
  {
   "cell_type": "code",
   "execution_count": null,
   "metadata": {
    "collapsed": false
   },
   "outputs": [],
   "source": [
    "resource_id = \"4d49202b-8bac-4cf9-9915-798a342253a6\"\n",
    "search_term = \"Sirius\"\n",
    "field_name = \"DogName\" # <== Specify just one field to return\n",
    "url = wprdc_api_endpoint + \"?id=\" + resource_id + \"&q=\" + search_term\n",
    "url = url + \"&fields=\" + field_name # <== Add the field-name filter to the url.\n",
    "print(url)\n",
    "response = requests.get(url)\n",
    "pprint.pprint(json.loads(response.text)['result']['records'])"
   ]
  },
  {
   "cell_type": "markdown",
   "metadata": {},
   "source": [
    "Now let's change the query to look for dogs who go by \"Mr.\"."
   ]
  },
  {
   "cell_type": "code",
   "execution_count": null,
   "metadata": {
    "collapsed": false
   },
   "outputs": [],
   "source": [
    "resource_id = \"4d49202b-8bac-4cf9-9915-798a342253a6\"\n",
    "search_term = \"Mr\" # Look for dogs with \"Mr\" in their names.\n",
    "field_name = \"DogName\"\n",
    "url = wprdc_api_endpoint + \"?id=\" + resource_id + \"&q=\" + search_term\n",
    "url = url + \"&fields=\" + field_name\n",
    "print(url)\n",
    "response = requests.get(url)\n",
    "pprint.pprint(json.loads(response.text)['result']['records']) # Narrow the printed part of the API response to just the 'records'."
   ]
  },
  {
   "cell_type": "markdown",
   "metadata": {},
   "source": [
    "## Resource IDs for some recommended datasets"
   ]
  },
  {
   "cell_type": "markdown",
   "metadata": {},
   "source": [
    "311 Data: \n",
    "    [Landing page](https://data.wprdc.org/dataset/311-data), \n",
    "    [Data page](https://data.wprdc.org/dataset/311-data/resource/40776043-ad00-40f5-9dc8-1fde865ff571)"
   ]
  },
  {
   "cell_type": "code",
   "execution_count": null,
   "metadata": {
    "collapsed": true
   },
   "outputs": [],
   "source": [
    "resource_id = \"40776043-ad00-40f5-9dc8-1fde865ff571\" # 311 Data (potholes and other reports from citizens)\n"
   ]
  },
  {
   "cell_type": "markdown",
   "metadata": {},
   "source": [
    "Air Quality Measurements: [Landing page](https://data.wprdc.org/dataset/allegheny-county-air-quality), [Data page](https://data.wprdc.org/dataset/allegheny-county-air-quality/resource/15d7dbf6-cb3b-407b-ae01-325352deed5c)    "
   ]
  },
  {
   "cell_type": "code",
   "execution_count": null,
   "metadata": {
    "collapsed": true
   },
   "outputs": [],
   "source": [
    "resource_id = \"15d7dbf6-cb3b-407b-ae01-325352deed5c\" # Air Quality Measurements (though in a weird table format)\n"
   ]
  },
  {
   "cell_type": "markdown",
   "metadata": {},
   "source": [
    "Crime Blotter data (for the last 30 days): [Landing page](https://data.wprdc.org/dataset/police-incident-blotter), [Data page](https://data.wprdc.org/dataset/police-incident-blotter/resource/1797ead8-8262-41cc-9099-cbc8a161924b), [WPRDC guide to crime data](http://www.wprdc.org/crime)"
   ]
  },
  {
   "cell_type": "code",
   "execution_count": null,
   "metadata": {
    "collapsed": true
   },
   "outputs": [],
   "source": [
    "resource_id = \"1797ead8-8262-41cc-9099-cbc8a161924b\" # Blotter data \n"
   ]
  },
  {
   "cell_type": "markdown",
   "metadata": {},
   "source": [
    "Archive of older crimes: [Landing page](https://data.wprdc.org/dataset/police-incident-blotter), [Data page](https://data.wprdc.org/dataset/uniform-crime-reporting-data/resource/044f2016-1dfd-4ab0-bc1e-065da05fca2e), [WPRDC guide to crime data](http://www.wprdc.org/crime)\n",
    "\n",
    "    "
   ]
  },
  {
   "cell_type": "code",
   "execution_count": null,
   "metadata": {
    "collapsed": true
   },
   "outputs": [],
   "source": [
    "resource_id = \"044f2016-1dfd-4ab0-bc1e-065da05fca2e\" # Crime archive data\n"
   ]
  },
  {
   "cell_type": "markdown",
   "metadata": {},
   "source": [
    "Restaurant Inspections: [Landing page](https://data.wprdc.org/dataset/allegheny-county-restaurant-food-facility-inspection-violations), [Data page](https://data.wprdc.org/dataset/allegheny-county-restaurant-food-facility-inspection-violations/resource/1a1329e2-418c-4bd3-af2c-cc334e7559af)"
   ]
  },
  {
   "cell_type": "code",
   "execution_count": null,
   "metadata": {
    "collapsed": true
   },
   "outputs": [],
   "source": [
    "resource_id = \"1a1329e2-418c-4bd3-af2c-cc334e7559af\" # Reports from the County Health Department on restaurant inspections"
   ]
  },
  {
   "cell_type": "markdown",
   "metadata": {},
   "source": [
    "Allegheny County Car Crashes: [Landing page](https://data.wprdc.org/dataset/allegheny-county-crash-data), [2015 data page](https://data.wprdc.org/dataset/allegheny-county-crash-data/resource/d90eb4fd-1234-4f3b-ba3d-422769cd3761)"
   ]
  },
  {
   "cell_type": "code",
   "execution_count": null,
   "metadata": {
    "collapsed": true
   },
   "outputs": [],
   "source": [
    "resource_id = \"d90eb4fd-1234-4f3b-ba3d-422769cd3761\" # Car crashes in Allegheny County in 2015"
   ]
  },
  {
   "cell_type": "code",
   "execution_count": null,
   "metadata": {
    "collapsed": true
   },
   "outputs": [],
   "source": [
    "resource_id = \"2c13021f-74a9-4289-a1e5-fe0472c89881\" # Cumulative data for crashes from 2004 to 2014."
   ]
  }
 ],
 "metadata": {
  "kernelspec": {
   "display_name": "Python 2",
   "language": "python",
   "name": "python2"
  },
  "language_info": {
   "codemirror_mode": {
    "name": "ipython",
    "version": 2
   },
   "file_extension": ".py",
   "mimetype": "text/x-python",
   "name": "python",
   "nbconvert_exporter": "python",
   "pygments_lexer": "ipython2",
   "version": "2.7.11"
  }
 },
 "nbformat": 4,
 "nbformat_minor": 0
}
