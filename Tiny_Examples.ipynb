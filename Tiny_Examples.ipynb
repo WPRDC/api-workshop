{
 "cells": [
  {
   "cell_type": "markdown",
   "metadata": {},
   "source": [
    "# Tiny Examples (of calls to the WPRDC's API)"
   ]
  },
  {
   "cell_type": "markdown",
   "metadata": {},
   "source": [
    "Import the libraries we need for this script\n",
    "* json - used for parsing JSON files\n",
    "* requests - makes HTTP requests. This will be used to make our API calls to the WPRDC.\n",
    "* pprint - for \"pretty-printing\" (formatting "
   ]
  },
  {
   "cell_type": "code",
   "execution_count": null,
   "metadata": {
    "collapsed": true
   },
   "outputs": [],
   "source": [
    "import json, requests, pprint # Run this code by clicking on the cell and hitting the Enter key (or Shift+Return)."
   ]
  },
  {
   "cell_type": "code",
   "execution_count": null,
   "metadata": {
    "collapsed": true
   },
   "outputs": [],
   "source": [
    "wprdc_api_endpoint = \"https://data.wprdc.org/api/3/action/datastore_search\" # Run this code the same way."
   ]
  },
  {
   "cell_type": "markdown",
   "metadata": {},
   "source": [
    "As you click on a cell and hit Enter, the next cell should become selected, and you can just keep hitting Enter and advancing through the notebook."
   ]
  },
  {
   "cell_type": "code",
   "execution_count": null,
   "metadata": {
    "collapsed": false
   },
   "outputs": [],
   "source": [
    "resource_id = \"4d49202b-8bac-4cf9-9915-798a342253a6\" # <== The resource ID for the 2015 dog licenses.\n",
    "search_term = \"Sirius\"\n",
    "url = wprdc_api_endpoint + \"?id=\" + resource_id + \"&q=\" + search_term\n",
    "print(url)\n",
    "response = requests.get(url)\n",
    "pprint.pprint(json.loads(response.text))"
   ]
  },
  {
   "cell_type": "markdown",
   "metadata": {},
   "source": [
    "We can declutter the results by printing only the 'records' part of the API response."
   ]
  },
  {
   "cell_type": "code",
   "execution_count": null,
   "metadata": {
    "collapsed": false
   },
   "outputs": [],
   "source": [
    "resource_id = \"4d49202b-8bac-4cf9-9915-798a342253a6\"\n",
    "search_term = \"Sirius\"\n",
    "url = wprdc_api_endpoint + \"?id=\" + resource_id + \"&q=\" + search_term\n",
    "print(url)\n",
    "response = requests.get(url)\n",
    "pprint.pprint(json.loads(response.text)['result']['records']) # <== Narrow the printed part of the API response to just the 'records'."
   ]
  },
  {
   "cell_type": "markdown",
   "metadata": {},
   "source": [
    "Let's simplify the response further by telling the API to return only one field in each record (the DogName field)."
   ]
  },
  {
   "cell_type": "code",
   "execution_count": null,
   "metadata": {
    "collapsed": false
   },
   "outputs": [],
   "source": [
    "resource_id = \"4d49202b-8bac-4cf9-9915-798a342253a6\"\n",
    "search_term = \"Sirius\"\n",
    "field_name = \"DogName\" # <== Specify just one field to return\n",
    "url = wprdc_api_endpoint + \"?id=\" + resource_id + \"&q=\" + search_term\n",
    "url = url + \"&fields=\" + field_name # <== Add the field-name filter to the url.\n",
    "print(url)\n",
    "response = requests.get(url)\n",
    "pprint.pprint(json.loads(response.text)['result']['records'])"
   ]
  },
  {
   "cell_type": "markdown",
   "metadata": {},
   "source": [
    "Now let's change the query to look for dogs who go by \"Mr.\"."
   ]
  },
  {
   "cell_type": "code",
   "execution_count": null,
   "metadata": {
    "collapsed": false
   },
   "outputs": [],
   "source": [
    "resource_id = \"4d49202b-8bac-4cf9-9915-798a342253a6\"\n",
    "search_term = \"Mr\" # Look for dogs with \"Mr\" in their names.\n",
    "field_name = \"DogName\"\n",
    "url = wprdc_api_endpoint + \"?id=\" + resource_id + \"&q=\" + search_term\n",
    "url = url + \"&fields=\" + field_name\n",
    "print(url)\n",
    "response = requests.get(url)\n",
    "pprint.pprint(json.loads(response.text)['result']['records']) # Narrow the printed part of the API response to just the 'records'."
   ]
  }
 ],
 "metadata": {
  "kernelspec": {
   "display_name": "Python 2",
   "language": "python",
   "name": "python2"
  },
  "language_info": {
   "codemirror_mode": {
    "name": "ipython",
    "version": 2
   },
   "file_extension": ".py",
   "mimetype": "text/x-python",
   "name": "python",
   "nbconvert_exporter": "python",
   "pygments_lexer": "ipython2",
   "version": "2.7.11"
  }
 },
 "nbformat": 4,
 "nbformat_minor": 0
}
