{
 "cells": [
  {
   "cell_type": "markdown",
   "metadata": {},
   "source": [
    "## Prep:\n",
    "1. Make a Twitter account\n",
    "2. Sign up at https://dev.twitter.com for a developer account\n",
    "    a. Ensure it has read/write access\n",
    "3. Make an new app under your development account\n",
    "4. Generate an access token key pair\n",
    "5. Rename `twitter_keys_sample.json` to `twitter_keys.json`\n",
    "6. Copy tokens to their respective fields in `twitter_keys.json`\n",
    "7. Install tweepy"
   ]
  },
  {
   "cell_type": "markdown",
   "metadata": {},
   "source": [
    "Import the libraries we need for this script\n",
    "* json - used for parsing JSON files\n",
    "* datetime - used to calculate yesterday's date\n",
    "* requests - makes HTTP requests. This will be used to make our API calls to the WPRDC.\n",
    "* tweepy - used to make Twitter API calls."
   ]
  },
  {
   "cell_type": "code",
   "execution_count": 1,
   "metadata": {
    "collapsed": true
   },
   "outputs": [],
   "source": [
    "import json\n",
    "from datetime import datetime, timedelta\n",
    "import requests\n",
    "import tweepy"
   ]
  },
  {
   "cell_type": "markdown",
   "metadata": {},
   "source": [
    "The URL of the API call we want to make.  \n",
    "`action/datastore_search_sql` searches a resource (data table) on the WPRDC using a supplied SQL statement"
   ]
  },
  {
   "cell_type": "code",
   "execution_count": 3,
   "metadata": {
    "collapsed": true
   },
   "outputs": [],
   "source": [
    "wprdc_api_endpoint = \"https://data.wprdc.org/api/3/action/datastore_search_sql\""
   ]
  },
  {
   "cell_type": "markdown",
   "metadata": {},
   "source": [
    "The resource ID of the data we want to collect. In this case, it's the `Blotter Data` resource in the [Police Blotter (30 day)](https://data.wprdc.org/dataset/police-incident-blotter) dataset."
   ]
  },
  {
   "cell_type": "code",
   "execution_count": 8,
   "metadata": {
    "collapsed": true
   },
   "outputs": [],
   "source": [
    "resource_id = \"1797ead8-8262-41cc-9099-cbc8a161924b\""
   ]
  },
  {
   "cell_type": "markdown",
   "metadata": {},
   "source": [
    "Generate yesterday's date to use in our SQL query to the WPRDC."
   ]
  },
  {
   "cell_type": "code",
   "execution_count": 16,
   "metadata": {
    "collapsed": false
   },
   "outputs": [
    {
     "data": {
      "text/plain": [
       "'2016-11-04'"
      ]
     },
     "execution_count": 16,
     "metadata": {},
     "output_type": "execute_result"
    }
   ],
   "source": [
    "# Get yesterday's date (the current date - 1 day)\n",
    "yesterday_date = datetime.now() - timedelta(days=1)\n",
    "yesterday_date"
   ]
  },
  {
   "cell_type": "code",
   "execution_count": null,
   "metadata": {
    "collapsed": true
   },
   "outputs": [],
   "source": [
    "# Convert to a string format that the Data Center accepts (yyyy-mm-dd)\n",
    "yesterday_str = yesterday_date.strftime(\"%Y-%m-%d\")\n",
    "yesterday_str"
   ]
  },
  {
   "cell_type": "markdown",
   "metadata": {},
   "source": [
    "Generate a SQL query to select all records from the `Blotter Data` where the date is greater than or equal to yesterday's date."
   ]
  },
  {
   "cell_type": "code",
   "execution_count": 19,
   "metadata": {
    "collapsed": false
   },
   "outputs": [
    {
     "data": {
      "text/plain": [
       "'SELECT count(\"PK\") as count FROM \"1797ead8-8262-41cc-9099-cbc8a161924b\" WHERE \"INCIDENTTIME\" >= \\'2016-11-04\\';'"
      ]
     },
     "execution_count": 19,
     "metadata": {},
     "output_type": "execute_result"
    }
   ],
   "source": [
    "query = \"SELECT count(\\\"PK\\\") as count FROM \\\"{}\\\" WHERE \\\"INCIDENTTIME\\\" >= '{}';\".format(resource_id, yesterday_str)\n",
    "query"
   ]
  },
  {
   "cell_type": "markdown",
   "metadata": {},
   "source": [
    "Make a call to the WPRDC API\n",
    "We'll be using [`datastore_search_sql`](http://docs.ckan.org/en/latest/maintaining/datastore.html#ckanext.datastore.logic.action.datastore_search_sql) which takes only one parameter (argument): `sql`, a SQL query string.\n",
    "It will return a JSON response in the following format:\n",
    "```json\n",
    "{\n",
    "  \"help\": \"https://data.wprdc.org/api/3/action/help_show?name=datastore_search_sql\",\n",
    "  \"success\": true,\n",
    "  \"result\": {\n",
    "    \"records\": [\n",
    "      {\n",
    "        \"record1_field1\": \"a value\",\n",
    "        \"record1_field2\": \"another value\"\n",
    "      },\n",
    "      {\n",
    "        \"record2_field1\": \"some value\",\n",
    "        \"record2_field2\": \"some other value\"\n",
    "      }\n",
    "      ...  // this keeps going for each record (row) returned from your query\n",
    "    ],\n",
    "    \"fields\": [\n",
    "      {\n",
    "        \"type\": \"field1's type\",\n",
    "        \"id\": \"field1's name\"\n",
    "      },\n",
    "      {\n",
    "        \"type\": \"field2's type\",\n",
    "        \"id\": \"field2's name\"\n",
    "    ],\n",
    "    \"sql\": \"The SQL statment you sent in your request\"\n",
    "  }\n",
    "}\n",
    "```\n",
    "\n",
    "What we're interested in is what's in result => records.\n",
    "It's a list of objects which works out to be a table. Each item in the list is a row, while each object is a mapping of a column name to its value in that row."
   ]
  },
  {
   "cell_type": "markdown",
   "metadata": {},
   "source": [
    "Make API call using requests"
   ]
  },
  {
   "cell_type": "code",
   "execution_count": 26,
   "metadata": {
    "collapsed": false
   },
   "outputs": [
    {
     "data": {
      "text/plain": [
       "<Response [200]>"
      ]
     },
     "execution_count": 26,
     "metadata": {},
     "output_type": "execute_result"
    }
   ],
   "source": [
    "response = requests.get(wprdc_api_endpoint, {'sql': query})\n",
    "response"
   ]
  },
  {
   "cell_type": "markdown",
   "metadata": {},
   "source": [
    "printing the `response` object only shows its [status code](https://en.wikipedia.org/wiki/List_of_HTTP_status_codes)\n",
    "However, the `response` object has a `text` attribute which contains the JSON-formated response we mentioned above."
   ]
  },
  {
   "cell_type": "code",
   "execution_count": 27,
   "metadata": {
    "collapsed": false
   },
   "outputs": [
    {
     "data": {
      "text/plain": [
       "'{\"help\": \"https://data.wprdc.org/api/3/action/help_show?name=datastore_search_sql\", \"success\": true, \"result\": {\"records\": [{\"count\": \"81\"}], \"fields\": [{\"type\": \"int8\", \"id\": \"count\"}], \"sql\": \"SELECT count(\\\\\"PK\\\\\") as count FROM \\\\\"1797ead8-8262-41cc-9099-cbc8a161924b\\\\\" WHERE \\\\\"INCIDENTTIME\\\\\" >= \\'2016-11-04\\';\"}}'"
      ]
     },
     "execution_count": 27,
     "metadata": {},
     "output_type": "execute_result"
    }
   ],
   "source": [
    "response.text"
   ]
  },
  {
   "cell_type": "code",
   "execution_count": 28,
   "metadata": {
    "collapsed": false
   },
   "outputs": [
    {
     "data": {
      "text/plain": [
       "{'help': 'https://data.wprdc.org/api/3/action/help_show?name=datastore_search_sql',\n",
       " 'result': {'fields': [{'id': 'count', 'type': 'int8'}],\n",
       "  'records': [{'count': '81'}],\n",
       "  'sql': 'SELECT count(\"PK\") as count FROM \"1797ead8-8262-41cc-9099-cbc8a161924b\" WHERE \"INCIDENTTIME\" >= \\'2016-11-04\\';'},\n",
       " 'success': True}"
      ]
     },
     "execution_count": 28,
     "metadata": {},
     "output_type": "execute_result"
    }
   ],
   "source": [
    "response_data = json.loads(response.text)\n",
    "response_data"
   ]
  },
  {
   "cell_type": "code",
   "execution_count": 34,
   "metadata": {
    "collapsed": false
   },
   "outputs": [
    {
     "name": "stdout",
     "output_type": "stream",
     "text": [
      "{\n",
      "  \"help\": \"https://data.wprdc.org/api/3/action/help_show?name=datastore_search_sql\",\n",
      "  \"result\": {\n",
      "    \"fields\": [\n",
      "      {\n",
      "        \"id\": \"count\",\n",
      "        \"type\": \"int8\"\n",
      "      }\n",
      "    ],\n",
      "    \"records\": [\n",
      "      {\n",
      "        \"count\": \"81\"\n",
      "      }\n",
      "    ],\n",
      "    \"sql\": \"SELECT count(\\\"PK\\\") as count FROM \\\"1797ead8-8262-41cc-9099-cbc8a161924b\\\" WHERE \\\"INCIDENTTIME\\\" >= '2016-11-04';\"\n",
      "  },\n",
      "  \"success\": true\n",
      "}\n"
     ]
    }
   ],
   "source": [
    "print(json.dumps(response_data, sort_keys=True, indent=2, separators=(',', ': ')))  # just to demonstrate the JSON format - not required"
   ]
  },
  {
   "cell_type": "code",
   "execution_count": 33,
   "metadata": {
    "collapsed": false
   },
   "outputs": [
    {
     "data": {
      "text/plain": [
       "'81'"
      ]
     },
     "execution_count": 33,
     "metadata": {},
     "output_type": "execute_result"
    }
   ],
   "source": [
    "count = response_data['result']['records'][0]['count']\n",
    "count"
   ]
  },
  {
   "cell_type": "markdown",
   "metadata": {},
   "source": [
    "The count is returned to us a string. If we plan to do any math with it, we'd have to convert it to an int, but since we're just printing it, we can leave it as is.\n",
    "\n",
    "That's it for the WPRDC request; now it's time to use the count we retrieved in a tweet."
   ]
  },
  {
   "cell_type": "markdown",
   "metadata": {},
   "source": [
    "# Twitter Section"
   ]
  },
  {
   "cell_type": "markdown",
   "metadata": {},
   "source": [
    "First we need to load the Twitter keys into variables.  \n",
    "*We're reading ours from a file, so we can use real keys without publicly displaying them. You can simply put them into your source code if you don't plan on making it publicly available.*\n",
    "\n",
    "If you want to use a separete key file like we do, this is what the provided sample file looks like.  Simply replace the values (to the right of the `:`) with your keys."
   ]
  },
  {
   "cell_type": "code",
   "execution_count": 36,
   "metadata": {
    "collapsed": false
   },
   "outputs": [
    {
     "name": "stdout",
     "output_type": "stream",
     "text": [
      "{\n",
      "  \"access_token_key\": \"acCe5s70kEn\",\n",
      "  \"access_token_secret\": \"acCe5s70kEn53crEt\",\n",
      "  \"consumer_key\": \"c0n5uM3rk3Y\",\n",
      "  \"consumer_secret\": \"c0N5um3r53cR3t\"\n",
      "}\n"
     ]
    }
   ],
   "source": [
    "with open('twitter_keys_sample.json') as f:\n",
    "    twitter_keys = json.load(f)\n",
    "    \n",
    "print(json.dumps(twitter_keys, sort_keys=True, indent = 2, separators=(',', ': ')))"
   ]
  },
  {
   "cell_type": "code",
   "execution_count": 37,
   "metadata": {
    "collapsed": true
   },
   "outputs": [],
   "source": [
    "with open('twitter_keys.json') as f:\n",
    "    twitter_keys = json.load(f)"
   ]
  },
  {
   "cell_type": "code",
   "execution_count": 38,
   "metadata": {
    "collapsed": true
   },
   "outputs": [],
   "source": [
    "consumer_key = twitter_keys['consumer_key']\n",
    "consumer_secret = twitter_keys['consumer_secret']\n",
    "access_token_key = twitter_keys['access_token_key']\n",
    "access_token_secret = twitter_keys['access_token_secret']"
   ]
  },
  {
   "cell_type": "markdown",
   "metadata": {},
   "source": [
    "Now we need to let Twitter know we are who we say we are by using our keys and secrets"
   ]
  },
  {
   "cell_type": "code",
   "execution_count": 39,
   "metadata": {
    "collapsed": true
   },
   "outputs": [],
   "source": [
    "auth = tweepy.OAuthHandler(consumer_key, consumer_secret)\n",
    "auth.set_access_token(access_token_key, access_token_secret)"
   ]
  },
  {
   "cell_type": "markdown",
   "metadata": {},
   "source": [
    "This gives us an object that proves we have authorized properly and can use Twitter under our account. We use that as the argument for tweepy.API which makes API calls to Twitter."
   ]
  },
  {
   "cell_type": "code",
   "execution_count": 45,
   "metadata": {
    "collapsed": false
   },
   "outputs": [
    {
     "data": {
      "text/plain": [
       "<tweepy.api.API at 0x16b6b061940>"
      ]
     },
     "execution_count": 45,
     "metadata": {},
     "output_type": "execute_result"
    }
   ],
   "source": [
    "twitter = tweepy.API(auth)\n",
    "twitter"
   ]
  },
  {
   "cell_type": "markdown",
   "metadata": {},
   "source": [
    "Now we can use our `twitter` object to send Tweets"
   ]
  },
  {
   "cell_type": "code",
   "execution_count": 46,
   "metadata": {
    "collapsed": false
   },
   "outputs": [
    {
     "data": {
      "text/plain": [
       "Status(contributors=None, in_reply_to_status_id_str=None, coordinates=None, _api=<tweepy.api.API object at 0x0000016B6B061940>, user=User(listed_count=0, protected=False, profile_background_image_url=None, lang='en', favourites_count=0, profile_image_url_https='https://abs.twimg.com/sticky/default_profile_images/default_profile_4_normal.png', description='', time_zone=None, id_str='793281895622553600', id=793281895622553600, is_translation_enabled=False, statuses_count=2, _json={'profile_background_tile': False, 'protected': False, 'profile_background_image_url': None, 'notifications': False, 'description': '', 'favourites_count': 0, 'following': False, 'lang': 'en', 'time_zone': None, 'id_str': '793281895622553600', 'profile_sidebar_fill_color': 'DDEEF6', 'id': 793281895622553600, 'is_translation_enabled': False, 'has_extended_profile': False, 'profile_text_color': '333333', 'profile_image_url_https': 'https://abs.twimg.com/sticky/default_profile_images/default_profile_4_normal.png', 'default_profile': True, 'name': 'WPRDC Bot', 'contributors_enabled': False, 'default_profile_image': True, 'profile_background_color': 'F5F8FA', 'verified': False, 'listed_count': 0, 'geo_enabled': False, 'location': '', 'friends_count': 0, 'follow_request_sent': False, 'url': None, 'profile_use_background_image': True, 'is_translator': False, 'profile_image_url': 'http://abs.twimg.com/sticky/default_profile_images/default_profile_4_normal.png', 'profile_link_color': '1DA1F2', 'followers_count': 0, 'profile_sidebar_border_color': 'C0DEED', 'screen_name': 'blotter_bot', 'translator_type': 'none', 'utc_offset': None, 'entities': {'description': {'urls': []}}, 'created_at': 'Tue Nov 01 02:41:57 +0000 2016', 'statuses_count': 2, 'profile_background_image_url_https': None}, profile_text_color='333333', has_extended_profile=False, name='WPRDC Bot', translator_type='none', contributors_enabled=False, notifications=False, profile_background_color='F5F8FA', _api=<tweepy.api.API object at 0x0000016B6B061940>, default_profile=True, geo_enabled=False, location='', profile_image_url='http://abs.twimg.com/sticky/default_profile_images/default_profile_4_normal.png', following=False, follow_request_sent=False, created_at=datetime.datetime(2016, 11, 1, 2, 41, 57), profile_use_background_image=True, is_translator=False, friends_count=0, profile_sidebar_fill_color='DDEEF6', default_profile_image=True, profile_sidebar_border_color='C0DEED', followers_count=0, screen_name='blotter_bot', profile_link_color='1DA1F2', profile_background_image_url_https=None, utc_offset=None, entities={'description': {'urls': []}}, url=None, profile_background_tile=False, verified=False), in_reply_to_screen_name=None, lang='en', truncated=False, id_str='794926102682750977', id=794926102682750977, _json={'contributors': None, 'in_reply_to_status_id_str': None, 'in_reply_to_user_id': None, 'favorite_count': 0, 'user': {'profile_background_tile': False, 'protected': False, 'profile_background_image_url': None, 'notifications': False, 'description': '', 'favourites_count': 0, 'following': False, 'lang': 'en', 'time_zone': None, 'id_str': '793281895622553600', 'profile_sidebar_fill_color': 'DDEEF6', 'id': 793281895622553600, 'is_translation_enabled': False, 'has_extended_profile': False, 'profile_text_color': '333333', 'profile_image_url_https': 'https://abs.twimg.com/sticky/default_profile_images/default_profile_4_normal.png', 'default_profile': True, 'name': 'WPRDC Bot', 'contributors_enabled': False, 'default_profile_image': True, 'profile_background_color': 'F5F8FA', 'verified': False, 'listed_count': 0, 'geo_enabled': False, 'location': '', 'friends_count': 0, 'follow_request_sent': False, 'url': None, 'profile_use_background_image': True, 'is_translator': False, 'profile_image_url': 'http://abs.twimg.com/sticky/default_profile_images/default_profile_4_normal.png', 'profile_link_color': '1DA1F2', 'followers_count': 0, 'profile_sidebar_border_color': 'C0DEED', 'screen_name': 'blotter_bot', 'translator_type': 'none', 'utc_offset': None, 'entities': {'description': {'urls': []}}, 'created_at': 'Tue Nov 01 02:41:57 +0000 2016', 'statuses_count': 2, 'profile_background_image_url_https': None}, 'in_reply_to_screen_name': None, 'lang': 'en', 'truncated': False, 'id_str': '794926102682750977', 'id': 794926102682750977, 'source': '<a href=\"https://www.wprdc.org\" rel=\"nofollow\">PGH Police Blotter Bot</a>', 'retweet_count': 0, 'geo': None, 'place': None, 'favorited': False, 'retweeted': False, 'is_quote_status': False, 'in_reply_to_user_id_str': None, 'coordinates': None, 'text': 'Gee willickers! There were 81 crime incidents in Pittsburgh yesterday.', 'entities': {'hashtags': [], 'urls': [], 'symbols': [], 'user_mentions': []}, 'created_at': 'Sat Nov 05 15:35:26 +0000 2016', 'in_reply_to_status_id': None}, author=User(listed_count=0, protected=False, profile_background_image_url=None, lang='en', favourites_count=0, profile_image_url_https='https://abs.twimg.com/sticky/default_profile_images/default_profile_4_normal.png', description='', time_zone=None, id_str='793281895622553600', id=793281895622553600, is_translation_enabled=False, statuses_count=2, _json={'profile_background_tile': False, 'protected': False, 'profile_background_image_url': None, 'notifications': False, 'description': '', 'favourites_count': 0, 'following': False, 'lang': 'en', 'time_zone': None, 'id_str': '793281895622553600', 'profile_sidebar_fill_color': 'DDEEF6', 'id': 793281895622553600, 'is_translation_enabled': False, 'has_extended_profile': False, 'profile_text_color': '333333', 'profile_image_url_https': 'https://abs.twimg.com/sticky/default_profile_images/default_profile_4_normal.png', 'default_profile': True, 'name': 'WPRDC Bot', 'contributors_enabled': False, 'default_profile_image': True, 'profile_background_color': 'F5F8FA', 'verified': False, 'listed_count': 0, 'geo_enabled': False, 'location': '', 'friends_count': 0, 'follow_request_sent': False, 'url': None, 'profile_use_background_image': True, 'is_translator': False, 'profile_image_url': 'http://abs.twimg.com/sticky/default_profile_images/default_profile_4_normal.png', 'profile_link_color': '1DA1F2', 'followers_count': 0, 'profile_sidebar_border_color': 'C0DEED', 'screen_name': 'blotter_bot', 'translator_type': 'none', 'utc_offset': None, 'entities': {'description': {'urls': []}}, 'created_at': 'Tue Nov 01 02:41:57 +0000 2016', 'statuses_count': 2, 'profile_background_image_url_https': None}, profile_text_color='333333', has_extended_profile=False, name='WPRDC Bot', translator_type='none', contributors_enabled=False, notifications=False, profile_background_color='F5F8FA', _api=<tweepy.api.API object at 0x0000016B6B061940>, default_profile=True, geo_enabled=False, location='', profile_image_url='http://abs.twimg.com/sticky/default_profile_images/default_profile_4_normal.png', following=False, follow_request_sent=False, created_at=datetime.datetime(2016, 11, 1, 2, 41, 57), profile_use_background_image=True, is_translator=False, friends_count=0, profile_sidebar_fill_color='DDEEF6', default_profile_image=True, profile_sidebar_border_color='C0DEED', followers_count=0, screen_name='blotter_bot', profile_link_color='1DA1F2', profile_background_image_url_https=None, utc_offset=None, entities={'description': {'urls': []}}, url=None, profile_background_tile=False, verified=False), source='PGH Police Blotter Bot', retweet_count=0, geo=None, favorite_count=0, place=None, favorited=False, retweeted=False, is_quote_status=False, in_reply_to_user_id_str=None, in_reply_to_user_id=None, source_url='https://www.wprdc.org', text='Gee willickers! There were 81 crime incidents in Pittsburgh yesterday.', entities={'hashtags': [], 'urls': [], 'symbols': [], 'user_mentions': []}, created_at=datetime.datetime(2016, 11, 5, 15, 35, 26), in_reply_to_status_id=None)"
      ]
     },
     "execution_count": 46,
     "metadata": {},
     "output_type": "execute_result"
    }
   ],
   "source": [
    "twitter.update_status('Gee willickers! There were {} crime incidents in Pittsburgh yesterday.'.format(count))"
   ]
  },
  {
   "cell_type": "code",
   "execution_count": null,
   "metadata": {
    "collapsed": true
   },
   "outputs": [],
   "source": [
    ""
   ]
  }
 ],
 "metadata": {
  "kernelspec": {
   "display_name": "Python 3",
   "language": "python",
   "name": "python3"
  },
  "language_info": {
   "codemirror_mode": {
    "name": "ipython",
    "version": 3.0
   },
   "file_extension": ".py",
   "mimetype": "text/x-python",
   "name": "python",
   "nbconvert_exporter": "python",
   "pygments_lexer": "ipython3",
   "version": "3.5.2"
  }
 },
 "nbformat": 4,
 "nbformat_minor": 0
}
